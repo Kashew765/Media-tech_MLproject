{
  "nbformat": 4,
  "nbformat_minor": 0,
  "metadata": {
    "colab": {
      "provenance": [],
      "authorship_tag": "ABX9TyOck9kCitKSTWSXMXp4jn+9",
      "include_colab_link": true
    },
    "kernelspec": {
      "name": "python3",
      "display_name": "Python 3"
    },
    "language_info": {
      "name": "python"
    }
  },
  "cells": [
    {
      "cell_type": "markdown",
      "metadata": {
        "id": "view-in-github",
        "colab_type": "text"
      },
      "source": [
        "<a href=\"https://colab.research.google.com/github/Kashew765/Media-tech_MLproject/blob/main/wine_data_ml.ipynb\" target=\"_parent\"><img src=\"https://colab.research.google.com/assets/colab-badge.svg\" alt=\"Open In Colab\"/></a>"
      ]
    },
    {
      "cell_type": "markdown",
      "source": [
        "1.\tWhat is the most frequently occurring wine quality? What is the highest number in and the lowest number in the quantity column?\n"
      ],
      "metadata": {
        "id": "EIzMlju3TV0M"
      }
    },
    {
      "cell_type": "code",
      "execution_count": 1,
      "metadata": {
        "colab": {
          "base_uri": "https://localhost:8080/"
        },
        "id": "yVZhVW6HROUs",
        "outputId": "d394a5a1-b149-4972-fcf4-853920fd7c83"
      },
      "outputs": [
        {
          "output_type": "stream",
          "name": "stdout",
          "text": [
            "Most frequent wine quality: 5\n",
            "Highest wine quality: 8\n",
            "Lowest wine quality: 3\n"
          ]
        }
      ],
      "source": [
        "import pandas as pd\n",
        "\n",
        "# Load the dataset\n",
        "data = pd.read_csv('wine_data.csv')\n",
        "\n",
        "# Most frequent wine quality\n",
        "most_frequent_quality = data['quality'].mode()[0]\n",
        "\n",
        "# Highest and lowest quality\n",
        "highest_quality = data['quality'].max()\n",
        "lowest_quality = data['quality'].min()\n",
        "\n",
        "print(f\"Most frequent wine quality: {most_frequent_quality}\")\n",
        "print(f\"Highest wine quality: {highest_quality}\")\n",
        "print(f\"Lowest wine quality: {lowest_quality}\")\n"
      ]
    },
    {
      "cell_type": "markdown",
      "source": [
        "2.\tHow is `fixed acidity` correlated to the quality of the wine? How does the alcohol content affect the quality? How is the `free Sulphur dioxide` content correlated to the quality of the wine?"
      ],
      "metadata": {
        "id": "lC2neIM4Tbz9"
      }
    },
    {
      "cell_type": "code",
      "source": [
        "# Correlation matrix\n",
        "correlations = data.corr()\n",
        "\n",
        "# Correlation of specific features to quality\n",
        "fixed_acidity_corr = correlations.loc['quality', 'fixed acidity']\n",
        "alcohol_corr = correlations.loc['quality', 'alcohol']\n",
        "free_sulfur_corr = correlations.loc['quality', 'free sulfur dioxide']\n",
        "\n",
        "print(f\"Correlation of fixed acidity to quality: {fixed_acidity_corr}\")\n",
        "print(f\"Correlation of alcohol to quality: {alcohol_corr}\")\n",
        "print(f\"Correlation of free sulfur dioxide to quality: {free_sulfur_corr}\")\n"
      ],
      "metadata": {
        "colab": {
          "base_uri": "https://localhost:8080/"
        },
        "id": "_c7JJdjPTEfR",
        "outputId": "c79d1d3b-a46e-439f-e9dd-7ed5c45882aa"
      },
      "execution_count": 2,
      "outputs": [
        {
          "output_type": "stream",
          "name": "stdout",
          "text": [
            "Correlation of fixed acidity to quality: 0.12405164911322257\n",
            "Correlation of alcohol to quality: 0.4761663239995377\n",
            "Correlation of free sulfur dioxide to quality: -0.05065605724427594\n"
          ]
        }
      ]
    },
    {
      "cell_type": "markdown",
      "source": [
        "3.\tWhat is the average `residual sugar` for the best quality wine and the lowest quality wine in the dataset?"
      ],
      "metadata": {
        "id": "R72zGVqgTh-9"
      }
    },
    {
      "cell_type": "code",
      "source": [
        "# Best quality wines\n",
        "best_quality_wines = data[data['quality'] == data['quality'].max()]['residual sugar'].mean()\n",
        "\n",
        "# Lowest quality wines\n",
        "lowest_quality_wines = data[data['quality'] == data['quality'].min()]['residual sugar'].mean()\n",
        "\n",
        "print(f\"Average residual sugar for best quality wine: {best_quality_wines}\")\n",
        "print(f\"Average residual sugar for lowest quality wine: {lowest_quality_wines}\")\n"
      ],
      "metadata": {
        "colab": {
          "base_uri": "https://localhost:8080/"
        },
        "id": "dQCLQhdiTG25",
        "outputId": "6a0c756e-4ff7-424c-8962-f4f5e4de365c"
      },
      "execution_count": 3,
      "outputs": [
        {
          "output_type": "stream",
          "name": "stdout",
          "text": [
            "Average residual sugar for best quality wine: 2.5777777777777775\n",
            "Average residual sugar for lowest quality wine: 2.6350000000000002\n"
          ]
        }
      ]
    },
    {
      "cell_type": "markdown",
      "source": [
        "4.\tDoes `volatile acidity` has an effect over the quality of the wine samples in the dataset?"
      ],
      "metadata": {
        "id": "EJQZqt5ETlMh"
      }
    },
    {
      "cell_type": "code",
      "source": [
        "volatile_acidity_corr = correlations.loc['quality', 'volatile acidity']\n",
        "print(f\"Correlation of volatile acidity to quality: {volatile_acidity_corr}\")\n"
      ],
      "metadata": {
        "colab": {
          "base_uri": "https://localhost:8080/"
        },
        "id": "6H6vZ7BETLTW",
        "outputId": "4154a970-738b-467a-cb7f-ac29526cf73b"
      },
      "execution_count": 4,
      "outputs": [
        {
          "output_type": "stream",
          "name": "stdout",
          "text": [
            "Correlation of volatile acidity to quality: -0.390557780264006\n"
          ]
        }
      ]
    },
    {
      "cell_type": "markdown",
      "source": [
        "5.\tTrain a Decision Tree model and Random Forest Model separately to predict the Quality of the given samples of wine. Compare the Accuracy scores for both models."
      ],
      "metadata": {
        "id": "y-ba7HtTTpDm"
      }
    },
    {
      "cell_type": "code",
      "source": [
        "from sklearn.model_selection import train_test_split\n",
        "from sklearn.tree import DecisionTreeClassifier\n",
        "from sklearn.ensemble import RandomForestClassifier\n",
        "from sklearn.metrics import accuracy_score\n",
        "\n",
        "# Splitting the data\n",
        "X = data.drop('quality', axis=1)\n",
        "y = data['quality']\n",
        "X_train, X_test, y_train, y_test = train_test_split(X, y, test_size=0.2, random_state=42)\n",
        "\n",
        "# Train Decision Tree\n",
        "dt_model = DecisionTreeClassifier(random_state=42)\n",
        "dt_model.fit(X_train, y_train)\n",
        "dt_predictions = dt_model.predict(X_test)\n",
        "dt_accuracy = accuracy_score(y_test, dt_predictions)\n",
        "\n",
        "# Train Random Forest\n",
        "rf_model = RandomForestClassifier(random_state=42)\n",
        "rf_model.fit(X_train, y_train)\n",
        "rf_predictions = rf_model.predict(X_test)\n",
        "rf_accuracy = accuracy_score(y_test, rf_predictions)\n",
        "\n",
        "print(f\"Decision Tree Accuracy: {dt_accuracy}\")\n",
        "print(f\"Random Forest Accuracy: {rf_accuracy}\")\n"
      ],
      "metadata": {
        "colab": {
          "base_uri": "https://localhost:8080/"
        },
        "id": "0Qp00cA5TRJ9",
        "outputId": "378a249a-f81c-46f2-b866-372fe0077cdc"
      },
      "execution_count": 5,
      "outputs": [
        {
          "output_type": "stream",
          "name": "stdout",
          "text": [
            "Decision Tree Accuracy: 0.559375\n",
            "Random Forest Accuracy: 0.659375\n"
          ]
        }
      ]
    }
  ]
}